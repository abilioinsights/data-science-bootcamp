{
 "cells": [
  {
   "cell_type": "markdown",
   "id": "dd840cf7",
   "metadata": {},
   "source": [
    "# Visualização de Resultados e Confusion Matrix Avançada\n",
    "\n",
    "**Objetivo:** Criar visualizações detalhadas para avaliar modelos de classificação. Inclui gráficos de matriz de confusão, distribuições de classes e curvas ROC (se aplicável)."
   ]
  },
  {
   "cell_type": "code",
   "execution_count": null,
   "id": "e12dbeec",
   "metadata": {},
   "outputs": [],
   "source": [
    "# Importando Bibliotecas\n",
    "import pandas as pd\n",
    "import numpy as np\n",
    "import matplotlib.pyplot as plt\n",
    "import seaborn as sns\n",
    "from sklearn.datasets import load_iris\n",
    "from sklearn.model_selection import train_test_split\n",
    "from sklearn.preprocessing import StandardScaler\n",
    "from sklearn.neighbors import KNeighborsClassifier\n",
    "from sklearn.metrics import confusion_matrix, classification_report, ConfusionMatrixDisplay"
   ]
  },
  {
   "cell_type": "code",
   "execution_count": null,
   "id": "5749f0d0",
   "metadata": {},
   "outputs": [],
   "source": [
    "# Carregando Dataset Iris\n",
    "iris = load_iris()\n",
    "X = pd.DataFrame(iris.data, columns=iris.feature_names)\n",
    "y = iris.target"
   ]
  },
  {
   "cell_type": "code",
   "execution_count": null,
   "id": "896507f7",
   "metadata": {},
   "outputs": [],
   "source": [
    "# Pré-processamento\n",
    "X_train, X_test, y_train, y_test = train_test_split(X, y, test_size=0.2, random_state=42)\n",
    "scaler = StandardScaler()\n",
    "X_train_scaled = scaler.fit_transform(X_train)\n",
    "X_test_scaled = scaler.transform(X_test)"
   ]
  },
  {
   "cell_type": "code",
   "execution_count": null,
   "id": "d6d40c6c",
   "metadata": {},
   "outputs": [],
   "source": [
    "# Treinando KNN\n",
    "knn = KNeighborsClassifier(n_neighbors=3)\n",
    "knn.fit(X_train_scaled, y_train)\n",
    "y_pred_knn = knn.predict(X_test_scaled)"
   ]
  },
  {
   "cell_type": "code",
   "execution_count": null,
   "id": "09ea93c7",
   "metadata": {},
   "outputs": [],
   "source": [
    "# Matriz de Confusão com display avançado\n",
    "cm = confusion_matrix(y_test, y_pred_knn)\n",
    "disp = ConfusionMatrixDisplay(confusion_matrix=cm, display_labels=iris.target_names)\n",
    "disp.plot(cmap='viridis')\n",
    "plt.title(\"Matriz de Confusão Avançada — KNN\")\n",
    "plt.show()"
   ]
  },
  {
   "cell_type": "code",
   "execution_count": null,
   "id": "bc2445a2-f0fa-40d0-bccc-61ef92cc91d4",
   "metadata": {},
   "outputs": [],
   "source": [
    "# Contagem de cada classe no conjunto de teste\n",
    "# Eu procurei uma forma de saber quantos valores únicos tinham e sua contagem. \n",
    "# apenas por fim de curiosidade, pois eu queria saber da onde vinha os valores do grafico acima. \n",
    "unique, counts = np.unique(y_test, return_counts=True)\n",
    "for u, c in zip(unique, counts):\n",
    "    print(f\"{iris.target_names[u]}: {c}\")\n"
   ]
  },
  {
   "cell_type": "code",
   "execution_count": null,
   "id": "72878b2d",
   "metadata": {},
   "outputs": [],
   "source": [
    "# Distribuição de Classes (Visualização)\n",
    "df = pd.DataFrame(X, columns=iris.feature_names)\n",
    "df['species'] = y\n",
    "sns.pairplot(df, hue='species', palette='Set2')\n",
    "plt.suptitle(\"Distribuição e Relação entre Atributos\" , y=1.02)\n",
    "plt.show()"
   ]
  },
  {
   "cell_type": "markdown",
   "id": "a5879c17",
   "metadata": {},
   "source": [
    "**Conclusão:**\n",
    "- Visualizar a matriz de confusão ajuda a entender quais classes estão sendo confundidas.\n",
    "- Gráficos de distribuição dos atributos permitem perceber padrões e separabilidade das classes."
   ]
  }
 ],
 "metadata": {
  "kernelspec": {
   "display_name": "Python 3 (ipykernel)",
   "language": "python",
   "name": "python3"
  },
  "language_info": {
   "codemirror_mode": {
    "name": "ipython",
    "version": 3
   },
   "file_extension": ".py",
   "mimetype": "text/x-python",
   "name": "python",
   "nbconvert_exporter": "python",
   "pygments_lexer": "ipython3",
   "version": "3.12.4"
  }
 },
 "nbformat": 4,
 "nbformat_minor": 5
}
