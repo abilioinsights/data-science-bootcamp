{
 "cells": [
  {
   "cell_type": "markdown",
   "id": "5db80218",
   "metadata": {},
   "source": [
    "# K-Nearest Neighbors (KNN) - Portfólio Profissional\n",
    "\n",
    "Neste notebook, implementamos o algoritmo **KNN** para classificação do dataset **Iris**. \n",
    "Incluímos visualizações, comparação de diferentes valores de `k` e interpretação dos resultados."
   ]
  },
  {
   "cell_type": "markdown",
   "id": "47523965",
   "metadata": {},
   "source": [
    "## 1️⃣ Importando Bibliotecas"
   ]
  },
  {
   "cell_type": "code",
   "execution_count": null,
   "id": "cfd13fca",
   "metadata": {},
   "outputs": [],
   "source": [
    "import numpy as np\n",
    "import matplotlib.pyplot as plt\n",
    "import seaborn as sns\n",
    "from sklearn.datasets import load_iris\n",
    "from sklearn.model_selection import train_test_split\n",
    "from sklearn.preprocessing import StandardScaler\n",
    "from sklearn.neighbors import KNeighborsClassifier\n",
    "from sklearn.metrics import accuracy_score, confusion_matrix, ConfusionMatrixDisplay"
   ]
  },
  {
   "cell_type": "markdown",
   "id": "b6bd92a6",
   "metadata": {},
   "source": [
    "## 2️⃣ Carregando o Dataset Iris"
   ]
  },
  {
   "cell_type": "code",
   "execution_count": null,
   "id": "8142b259",
   "metadata": {},
   "outputs": [],
   "source": [
    "iris = load_iris()\n",
    "X, y = iris.data, iris.target\n",
    "feature_names = iris.feature_names\n",
    "target_names = iris.target_names\n",
    "\n",
    "print(f\"Formato dos dados: {X.shape}\")\n",
    "print(f\"Classes: {target_names}\")"
   ]
  },
  {
   "cell_type": "markdown",
   "id": "5d5a2149",
   "metadata": {},
   "source": [
    "## 3️⃣ Dividindo em Treino e Teste"
   ]
  },
  {
   "cell_type": "code",
   "execution_count": null,
   "id": "b5f16f28",
   "metadata": {},
   "outputs": [],
   "source": [
    "X_train, X_test, y_train, y_test = train_test_split(\n",
    "    X, y, test_size=0.3, random_state=42, stratify=y)\n",
    "print(f\"Treino: {X_train.shape}, Teste: {X_test.shape}\")"
   ]
  },
  {
   "cell_type": "markdown",
   "id": "bb1c995d",
   "metadata": {},
   "source": [
    "## 4️⃣ Normalizando os Dados\n",
    "KNN utiliza distância entre pontos, portanto é importante padronizar as features."
   ]
  },
  {
   "cell_type": "code",
   "execution_count": null,
   "id": "45f00019",
   "metadata": {},
   "outputs": [],
   "source": [
    "scaler = StandardScaler()\n",
    "X_train = scaler.fit_transform(X_train)\n",
    "X_test = scaler.transform(X_test)"
   ]
  },
  {
   "cell_type": "markdown",
   "id": "db0fd46e",
   "metadata": {},
   "source": [
    "## 5️⃣ Testando Diferentes Valores de k\n",
    "Vamos testar k = 3, 5 e 7 para comparar performance."
   ]
  },
  {
   "cell_type": "code",
   "execution_count": null,
   "id": "3e43fa7c",
   "metadata": {},
   "outputs": [],
   "source": [
    "k_values = [3, 5, 7]\n",
    "results = {}\n",
    "\n",
    "for k in k_values:\n",
    "    knn = KNeighborsClassifier(n_neighbors=k)\n",
    "    knn.fit(X_train, y_train)\n",
    "    y_pred = knn.predict(X_test)\n",
    "    acc = accuracy_score(y_test, y_pred)\n",
    "    results[k] = {'accuracy': acc, 'y_pred': y_pred}\n",
    "    print(f\"k={k} -> Acurácia: {acc*100:.2f}%\")"
   ]
  },
  {
   "cell_type": "markdown",
   "id": "7282e15e",
   "metadata": {},
   "source": [
    "## 6️⃣ Matriz de Confusão para k=5 (Escolhido como melhor)\n",
    "Visualizando onde o modelo acerta e erra."
   ]
  },
  {
   "cell_type": "code",
   "execution_count": null,
   "id": "f8bed459",
   "metadata": {},
   "outputs": [],
   "source": [
    "best_k = 5\n",
    "y_pred_best = results[best_k]['y_pred']\n",
    "\n",
    "cm = confusion_matrix(y_test, y_pred_best)\n",
    "disp = ConfusionMatrixDisplay(confusion_matrix=cm, display_labels=target_names)\n",
    "disp.plot(cmap=plt.cm.Blues)\n",
    "plt.title(f'Matriz de Confusão - k={best_k}')\n",
    "plt.show()"
   ]
  },
  {
   "cell_type": "markdown",
   "id": "107ce222",
   "metadata": {},
   "source": [
    "## 7️⃣ Visualização das Classes\n",
    "Distribuição dos dados de teste e cores por classe."
   ]
  },
  {
   "cell_type": "code",
   "execution_count": null,
   "id": "bbb71e4b",
   "metadata": {},
   "outputs": [],
   "source": [
    "iris_df = np.column_stack((X_test, y_test))\n",
    "iris_df = np.array(iris_df)\n",
    "\n",
    "plt.figure(figsize=(8,6))\n",
    "for i, color, label in zip(range(3), ['red','green','blue'], target_names):\n",
    "    plt.scatter(X_test[y_test==i, 0], X_test[y_test==i, 1],\n",
    "                color=color, label=label)\n",
    "plt.xlabel(feature_names[0])\n",
    "plt.ylabel(feature_names[1])\n",
    "plt.title('Distribuição das Classes no Teste')\n",
    "plt.legend()\n",
    "plt.show()"
   ]
  },
  {
   "cell_type": "markdown",
   "id": "9c78109d",
   "metadata": {},
   "source": [
    "## 8️⃣ Analisando os Vizinhos Mais Próximos\n",
    "Exemplo de classificação de uma amostra de teste e seus vizinhos."
   ]
  },
  {
   "cell_type": "code",
   "execution_count": null,
   "id": "e5e1f0b9",
   "metadata": {},
   "outputs": [],
   "source": [
    "sample_idx = 0\n",
    "sample = X_test[sample_idx].reshape(1, -1)\n",
    "knn_best = KNeighborsClassifier(n_neighbors=best_k)\n",
    "knn_best.fit(X_train, y_train)\n",
    "distances, indices = knn_best.kneighbors(sample)\n",
    "\n",
    "print(\"Amostra de teste:\", sample)\n",
    "print(\"Índices dos vizinhos mais próximos:\", indices)\n",
    "print(\"Distâncias:\", distances)\n",
    "print(\"Classes dos vizinhos:\", y_train[indices].flatten())\n",
    "print(\"Classe prevista:\", knn_best.predict(sample)[0])"
   ]
  },
  {
   "cell_type": "markdown",
   "id": "f06f7abe",
   "metadata": {},
   "source": [
    "## ✅ Conclusão\n",
    "- KNN é simples, eficiente e fácil de interpretar.\n",
    "- Testamos diferentes valores de `k` e escolhemos o melhor para este dataset.\n",
    "- Visualizações de matriz de confusão e dispersão ajudam a entender a performance."
   ]
  },
  {
   "cell_type": "code",
   "execution_count": null,
   "id": "a1606ce8-48a6-4439-bd5a-c52a7e6b0247",
   "metadata": {},
   "outputs": [],
   "source": []
  }
 ],
 "metadata": {
  "kernelspec": {
   "display_name": "Python 3 (ipykernel)",
   "language": "python",
   "name": "python3"
  },
  "language_info": {
   "codemirror_mode": {
    "name": "ipython",
    "version": 3
   },
   "file_extension": ".py",
   "mimetype": "text/x-python",
   "name": "python",
   "nbconvert_exporter": "python",
   "pygments_lexer": "ipython3",
   "version": "3.12.4"
  }
 },
 "nbformat": 4,
 "nbformat_minor": 5
}
