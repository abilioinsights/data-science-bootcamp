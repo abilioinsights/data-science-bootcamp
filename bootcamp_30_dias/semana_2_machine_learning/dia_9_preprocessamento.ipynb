{
 "cells": [
  {
   "cell_type": "markdown",
   "id": "c775c822",
   "metadata": {},
   "source": [
    "# Dia 9 | Pré-processamento: Normalização, Divisão e Limpeza de Dados\n",
    "\n",
    "Neste notebook vamos estudar as etapas fundamentais de **pré-processamento de dados** em Machine Learning.\n",
    "Abordaremos:\n",
    "- Limpeza de dados (missing values, outliers, inconsistências)\n",
    "- Normalização (StandardScaler / Z-score)\n",
    "- Divisão em treino e teste (train_test_split)\n",
    "\n",
    "Utilizaremos o dataset **Iris** como exemplo prático."
   ]
  },
  {
   "cell_type": "markdown",
   "id": "e7c8ae85",
   "metadata": {},
   "source": [
    "## 1️⃣ Importando bibliotecas"
   ]
  },
  {
   "cell_type": "code",
   "execution_count": 1,
   "id": "7536d0b4",
   "metadata": {},
   "outputs": [],
   "source": [
    "import pandas as pd\n",
    "import numpy as np\n",
    "from sklearn.datasets import load_iris\n",
    "from sklearn.model_selection import train_test_split\n",
    "from sklearn.preprocessing import StandardScaler\n",
    "from sklearn.linear_model import LogisticRegression\n",
    "from sklearn.metrics import accuracy_score, classification_report\n",
    "import matplotlib.pyplot as plt\n",
    "import seaborn as sns\n",
    "sns.set_style('whitegrid')"
   ]
  },
  {
   "cell_type": "markdown",
   "id": "16b19c60",
   "metadata": {},
   "source": [
    "## 2️⃣ Carregando o dataset Iris"
   ]
  },
  {
   "cell_type": "code",
   "execution_count": 2,
   "id": "cb020ba9",
   "metadata": {},
   "outputs": [
    {
     "data": {
      "text/html": [
       "<div>\n",
       "<style scoped>\n",
       "    .dataframe tbody tr th:only-of-type {\n",
       "        vertical-align: middle;\n",
       "    }\n",
       "\n",
       "    .dataframe tbody tr th {\n",
       "        vertical-align: top;\n",
       "    }\n",
       "\n",
       "    .dataframe thead th {\n",
       "        text-align: right;\n",
       "    }\n",
       "</style>\n",
       "<table border=\"1\" class=\"dataframe\">\n",
       "  <thead>\n",
       "    <tr style=\"text-align: right;\">\n",
       "      <th></th>\n",
       "      <th>sepal length (cm)</th>\n",
       "      <th>sepal width (cm)</th>\n",
       "      <th>petal length (cm)</th>\n",
       "      <th>petal width (cm)</th>\n",
       "      <th>target</th>\n",
       "    </tr>\n",
       "  </thead>\n",
       "  <tbody>\n",
       "    <tr>\n",
       "      <th>0</th>\n",
       "      <td>5.1</td>\n",
       "      <td>3.5</td>\n",
       "      <td>1.4</td>\n",
       "      <td>0.2</td>\n",
       "      <td>0</td>\n",
       "    </tr>\n",
       "    <tr>\n",
       "      <th>1</th>\n",
       "      <td>4.9</td>\n",
       "      <td>3.0</td>\n",
       "      <td>1.4</td>\n",
       "      <td>0.2</td>\n",
       "      <td>0</td>\n",
       "    </tr>\n",
       "    <tr>\n",
       "      <th>2</th>\n",
       "      <td>4.7</td>\n",
       "      <td>3.2</td>\n",
       "      <td>1.3</td>\n",
       "      <td>0.2</td>\n",
       "      <td>0</td>\n",
       "    </tr>\n",
       "    <tr>\n",
       "      <th>3</th>\n",
       "      <td>4.6</td>\n",
       "      <td>3.1</td>\n",
       "      <td>1.5</td>\n",
       "      <td>0.2</td>\n",
       "      <td>0</td>\n",
       "    </tr>\n",
       "    <tr>\n",
       "      <th>4</th>\n",
       "      <td>5.0</td>\n",
       "      <td>3.6</td>\n",
       "      <td>1.4</td>\n",
       "      <td>0.2</td>\n",
       "      <td>0</td>\n",
       "    </tr>\n",
       "  </tbody>\n",
       "</table>\n",
       "</div>"
      ],
      "text/plain": [
       "   sepal length (cm)  sepal width (cm)  petal length (cm)  petal width (cm)  \\\n",
       "0                5.1               3.5                1.4               0.2   \n",
       "1                4.9               3.0                1.4               0.2   \n",
       "2                4.7               3.2                1.3               0.2   \n",
       "3                4.6               3.1                1.5               0.2   \n",
       "4                5.0               3.6                1.4               0.2   \n",
       "\n",
       "   target  \n",
       "0       0  \n",
       "1       0  \n",
       "2       0  \n",
       "3       0  \n",
       "4       0  "
      ]
     },
     "execution_count": 2,
     "metadata": {},
     "output_type": "execute_result"
    }
   ],
   "source": [
    "# Carregar dataset Iris\n",
    "iris = load_iris()\n",
    "df = pd.DataFrame(data=iris.data, columns=iris.feature_names)\n",
    "df['target'] = iris.target\n",
    "\n",
    "# Visualizar as primeiras linhas\n",
    "df.head()"
   ]
  },
  {
   "cell_type": "markdown",
   "id": "f7856b15",
   "metadata": {},
   "source": [
    "### 🔹 Explicação\n",
    "- `df` contém as features do Iris e a coluna `target` como variável alvo.\n",
    "- Esse dataset será utilizado para demonstrar técnicas de pré-processamento."
   ]
  },
  {
   "cell_type": "markdown",
   "id": "181befc7",
   "metadata": {},
   "source": [
    "## 3️⃣ Normalização dos Dados"
   ]
  },
  {
   "cell_type": "code",
   "execution_count": 3,
   "id": "e30c6371",
   "metadata": {},
   "outputs": [
    {
     "name": "stdout",
     "output_type": "stream",
     "text": [
      "=== Antes da normalização ===\n"
     ]
    },
    {
     "data": {
      "text/html": [
       "<div>\n",
       "<style scoped>\n",
       "    .dataframe tbody tr th:only-of-type {\n",
       "        vertical-align: middle;\n",
       "    }\n",
       "\n",
       "    .dataframe tbody tr th {\n",
       "        vertical-align: top;\n",
       "    }\n",
       "\n",
       "    .dataframe thead th {\n",
       "        text-align: right;\n",
       "    }\n",
       "</style>\n",
       "<table border=\"1\" class=\"dataframe\">\n",
       "  <thead>\n",
       "    <tr style=\"text-align: right;\">\n",
       "      <th></th>\n",
       "      <th>sepal length (cm)</th>\n",
       "      <th>sepal width (cm)</th>\n",
       "      <th>petal length (cm)</th>\n",
       "      <th>petal width (cm)</th>\n",
       "      <th>target</th>\n",
       "    </tr>\n",
       "  </thead>\n",
       "  <tbody>\n",
       "    <tr>\n",
       "      <th>0</th>\n",
       "      <td>5.1</td>\n",
       "      <td>3.5</td>\n",
       "      <td>1.4</td>\n",
       "      <td>0.2</td>\n",
       "      <td>0</td>\n",
       "    </tr>\n",
       "    <tr>\n",
       "      <th>1</th>\n",
       "      <td>4.9</td>\n",
       "      <td>3.0</td>\n",
       "      <td>1.4</td>\n",
       "      <td>0.2</td>\n",
       "      <td>0</td>\n",
       "    </tr>\n",
       "    <tr>\n",
       "      <th>2</th>\n",
       "      <td>4.7</td>\n",
       "      <td>3.2</td>\n",
       "      <td>1.3</td>\n",
       "      <td>0.2</td>\n",
       "      <td>0</td>\n",
       "    </tr>\n",
       "    <tr>\n",
       "      <th>3</th>\n",
       "      <td>4.6</td>\n",
       "      <td>3.1</td>\n",
       "      <td>1.5</td>\n",
       "      <td>0.2</td>\n",
       "      <td>0</td>\n",
       "    </tr>\n",
       "    <tr>\n",
       "      <th>4</th>\n",
       "      <td>5.0</td>\n",
       "      <td>3.6</td>\n",
       "      <td>1.4</td>\n",
       "      <td>0.2</td>\n",
       "      <td>0</td>\n",
       "    </tr>\n",
       "  </tbody>\n",
       "</table>\n",
       "</div>"
      ],
      "text/plain": [
       "   sepal length (cm)  sepal width (cm)  petal length (cm)  petal width (cm)  \\\n",
       "0                5.1               3.5                1.4               0.2   \n",
       "1                4.9               3.0                1.4               0.2   \n",
       "2                4.7               3.2                1.3               0.2   \n",
       "3                4.6               3.1                1.5               0.2   \n",
       "4                5.0               3.6                1.4               0.2   \n",
       "\n",
       "   target  \n",
       "0       0  \n",
       "1       0  \n",
       "2       0  \n",
       "3       0  \n",
       "4       0  "
      ]
     },
     "metadata": {},
     "output_type": "display_data"
    },
    {
     "name": "stdout",
     "output_type": "stream",
     "text": [
      "=== Depois da normalização (Z-score) ===\n"
     ]
    },
    {
     "data": {
      "text/html": [
       "<div>\n",
       "<style scoped>\n",
       "    .dataframe tbody tr th:only-of-type {\n",
       "        vertical-align: middle;\n",
       "    }\n",
       "\n",
       "    .dataframe tbody tr th {\n",
       "        vertical-align: top;\n",
       "    }\n",
       "\n",
       "    .dataframe thead th {\n",
       "        text-align: right;\n",
       "    }\n",
       "</style>\n",
       "<table border=\"1\" class=\"dataframe\">\n",
       "  <thead>\n",
       "    <tr style=\"text-align: right;\">\n",
       "      <th></th>\n",
       "      <th>sepal length (cm)</th>\n",
       "      <th>sepal width (cm)</th>\n",
       "      <th>petal length (cm)</th>\n",
       "      <th>petal width (cm)</th>\n",
       "    </tr>\n",
       "  </thead>\n",
       "  <tbody>\n",
       "    <tr>\n",
       "      <th>0</th>\n",
       "      <td>-0.900681</td>\n",
       "      <td>1.019004</td>\n",
       "      <td>-1.340227</td>\n",
       "      <td>-1.315444</td>\n",
       "    </tr>\n",
       "    <tr>\n",
       "      <th>1</th>\n",
       "      <td>-1.143017</td>\n",
       "      <td>-0.131979</td>\n",
       "      <td>-1.340227</td>\n",
       "      <td>-1.315444</td>\n",
       "    </tr>\n",
       "    <tr>\n",
       "      <th>2</th>\n",
       "      <td>-1.385353</td>\n",
       "      <td>0.328414</td>\n",
       "      <td>-1.397064</td>\n",
       "      <td>-1.315444</td>\n",
       "    </tr>\n",
       "    <tr>\n",
       "      <th>3</th>\n",
       "      <td>-1.506521</td>\n",
       "      <td>0.098217</td>\n",
       "      <td>-1.283389</td>\n",
       "      <td>-1.315444</td>\n",
       "    </tr>\n",
       "    <tr>\n",
       "      <th>4</th>\n",
       "      <td>-1.021849</td>\n",
       "      <td>1.249201</td>\n",
       "      <td>-1.340227</td>\n",
       "      <td>-1.315444</td>\n",
       "    </tr>\n",
       "  </tbody>\n",
       "</table>\n",
       "</div>"
      ],
      "text/plain": [
       "   sepal length (cm)  sepal width (cm)  petal length (cm)  petal width (cm)\n",
       "0          -0.900681          1.019004          -1.340227         -1.315444\n",
       "1          -1.143017         -0.131979          -1.340227         -1.315444\n",
       "2          -1.385353          0.328414          -1.397064         -1.315444\n",
       "3          -1.506521          0.098217          -1.283389         -1.315444\n",
       "4          -1.021849          1.249201          -1.340227         -1.315444"
      ]
     },
     "metadata": {},
     "output_type": "display_data"
    }
   ],
   "source": [
    "# Separar features (somente colunas numéricas)\n",
    "X = df[iris.feature_names]  # features\n",
    "\n",
    "# Aplicar StandardScaler (Z-score)\n",
    "scaler = StandardScaler()\n",
    "X_scaled = scaler.fit_transform(X)\n",
    "\n",
    "# Transformar de volta em DataFrame para melhor visualização\n",
    "df_scaled = pd.DataFrame(X_scaled, columns=iris.feature_names)\n",
    "\n",
    "print(\"=== Antes da normalização ===\")\n",
    "display(df.head())\n",
    "\n",
    "print(\"=== Depois da normalização (Z-score) ===\")\n",
    "display(df_scaled.head())"
   ]
  },
  {
   "cell_type": "markdown",
   "id": "1b663cb3",
   "metadata": {},
   "source": [
    "### 🔹 Explicação\n",
    "- Normalização transforma os dados para **média 0 e desvio padrão 1**, evitando que features com escalas maiores dominem o modelo.\n",
    "- Essencial para algoritmos que dependem de distância ou gradiente, como **Logistic Regression**, **SVM** e **KNN**."
   ]
  },
  {
   "cell_type": "markdown",
   "id": "13e4fef0",
   "metadata": {},
   "source": [
    "## 4️⃣ Divisão em Treino e Teste"
   ]
  },
  {
   "cell_type": "code",
   "execution_count": 4,
   "id": "fa70b1b1",
   "metadata": {},
   "outputs": [],
   "source": [
    "# Definir features e target\n",
    "X = df_scaled\n",
    "y = df['target']\n",
    "\n",
    "# Divisão em treino (70%) e teste (30%)\n",
    "X_train, X_test, y_train, y_test = train_test_split(\n",
    "    X, y, test_size=0.3, random_state=42\n",
    ")"
   ]
  },
  {
   "cell_type": "markdown",
   "id": "dae0d7d9",
   "metadata": {},
   "source": [
    "### 🔹 Explicação\n",
    "- `train_test_split` garante que temos conjuntos separados para treinar e avaliar o modelo.\n",
    "- `random_state` permite **reprodutibilidade** dos resultados."
   ]
  },
  {
   "cell_type": "markdown",
   "id": "852a2ff2",
   "metadata": {},
   "source": [
    "## 5️⃣ Checagem de dados faltantes e limpeza"
   ]
  },
  {
   "cell_type": "code",
   "execution_count": 5,
   "id": "8963a205",
   "metadata": {},
   "outputs": [
    {
     "data": {
      "text/plain": [
       "sepal length (cm)    0\n",
       "sepal width (cm)     0\n",
       "petal length (cm)    0\n",
       "petal width (cm)     0\n",
       "target               0\n",
       "dtype: int64"
      ]
     },
     "execution_count": 5,
     "metadata": {},
     "output_type": "execute_result"
    }
   ],
   "source": [
    "# Verificar valores ausentes\n",
    "df.isna().sum()"
   ]
  },
  {
   "cell_type": "markdown",
   "id": "496d3000",
   "metadata": {},
   "source": [
    "### 🔹 Explicação\n",
    "- Nenhum valor ausente neste dataset, mas em bases reais, podemos preencher (`impute`) com média, mediana ou modo, ou remover linhas/colunas."
   ]
  },
  {
   "cell_type": "markdown",
   "id": "17dbdb7c",
   "metadata": {},
   "source": [
    "## 6️⃣ Outliers (Exploração rápida)"
   ]
  },
  {
   "cell_type": "code",
   "execution_count": 6,
   "id": "508751d5",
   "metadata": {},
   "outputs": [
    {
     "name": "stdout",
     "output_type": "stream",
     "text": [
      "Percentual de outliers: 0.0 %\n"
     ]
    }
   ],
   "source": [
    "from scipy import stats\n",
    "z_scores = np.abs(stats.zscore(X_train))\n",
    "outlier_mask = (z_scores > 3).any(axis=1)\n",
    "outlier_rate = outlier_mask.mean()\n",
    "print('Percentual de outliers:', round(outlier_rate*100, 2), '%')"
   ]
  },
  {
   "cell_type": "markdown",
   "id": "ccca4394",
   "metadata": {},
   "source": [
    "### 🔹 Explicação\n",
    "- Usamos Z-score > 3 como regra prática para identificar outliers.\n",
    "- Em datasets reais, podemos **capping** ou **winsorizing** para limitar extremos, mas com cuidado para não distorcer os dados."
   ]
  },
  {
   "cell_type": "markdown",
   "id": "38906f46",
   "metadata": {},
   "source": [
    "## 7️⃣ Treinando um modelo de exemplo"
   ]
  },
  {
   "cell_type": "code",
   "execution_count": 7,
   "id": "f3a5dbae",
   "metadata": {},
   "outputs": [
    {
     "name": "stdout",
     "output_type": "stream",
     "text": [
      "🔹 Regressão Logística\n",
      "Acurácia: 1.0\n",
      "              precision    recall  f1-score   support\n",
      "\n",
      "      setosa       1.00      1.00      1.00        19\n",
      "  versicolor       1.00      1.00      1.00        13\n",
      "   virginica       1.00      1.00      1.00        13\n",
      "\n",
      "    accuracy                           1.00        45\n",
      "   macro avg       1.00      1.00      1.00        45\n",
      "weighted avg       1.00      1.00      1.00        45\n",
      "\n"
     ]
    }
   ],
   "source": [
    "# Modelo de Regressão Logística\n",
    "log_reg = LogisticRegression(max_iter=200, random_state=42)\n",
    "log_reg.fit(X_train, y_train)\n",
    "\n",
    "# Predição\n",
    "y_pred_log = log_reg.predict(X_test)\n",
    "\n",
    "# Avaliação\n",
    "print('🔹 Regressão Logística')\n",
    "print('Acurácia:', round(accuracy_score(y_test, y_pred_log),4))\n",
    "print(classification_report(y_test, y_pred_log, target_names=iris.target_names))"
   ]
  },
  {
   "cell_type": "markdown",
   "id": "52a4352c",
   "metadata": {},
   "source": [
    "### 🔹 Explicação\n",
    "- Avaliamos o modelo com **accuracy** e **classification report**.\n",
    "- O modelo aprende padrões após pré-processamento e normalização."
   ]
  }
 ],
 "metadata": {
  "kernelspec": {
   "display_name": "Python 3 (ipykernel)",
   "language": "python",
   "name": "python3"
  },
  "language_info": {
   "codemirror_mode": {
    "name": "ipython",
    "version": 3
   },
   "file_extension": ".py",
   "mimetype": "text/x-python",
   "name": "python",
   "nbconvert_exporter": "python",
   "pygments_lexer": "ipython3",
   "version": "3.12.4"
  }
 },
 "nbformat": 4,
 "nbformat_minor": 5
}
