{
 "cells": [
  {
   "cell_type": "code",
   "execution_count": 1,
   "id": "071ec632-d98d-4736-977e-35cde18781d9",
   "metadata": {},
   "outputs": [],
   "source": [
    "from sklearn.datasets import load_iris\n",
    "from sklearn.model_selection import train_test_split\n",
    "from sklearn.tree import DecisionTreeClassifier\n",
    "from sklearn.ensemble import RandomForestClassifier\n",
    "import pandas as pd\n"
   ]
  },
  {
   "cell_type": "code",
   "execution_count": 2,
   "id": "66dff71b-ece2-4b91-9373-28ed5738b631",
   "metadata": {},
   "outputs": [],
   "source": [
    "# 1. Dados\n",
    "iris = load_iris()\n",
    "X = iris.data\n",
    "y = iris.target\n",
    "features = iris.feature_names\n",
    "\n",
    "X_train, X_test, y_train, y_test = train_test_split(X, y, test_size=0.3, random_state=42)\n"
   ]
  },
  {
   "cell_type": "code",
   "execution_count": 3,
   "id": "9df48fd4-0fe2-4a96-87a8-17bbcc648e10",
   "metadata": {},
   "outputs": [],
   "source": [
    "\n",
    "# 2. Árvore de Decisão\n",
    "tree = DecisionTreeClassifier(max_depth=3, random_state=42)\n",
    "tree.fit(X_train, y_train)\n",
    "acc_tree = tree.score(X_test, y_test)\n"
   ]
  },
  {
   "cell_type": "code",
   "execution_count": 4,
   "id": "d825b926-de66-4fc3-952d-78ff292fad0a",
   "metadata": {},
   "outputs": [],
   "source": [
    "\n",
    "# 3. Random Forest\n",
    "rf = RandomForestClassifier(n_estimators=100, random_state=42)\n",
    "rf.fit(X_train, y_train)\n",
    "acc_rf = rf.score(X_test, y_test)\n"
   ]
  },
  {
   "cell_type": "code",
   "execution_count": 5,
   "id": "9b70abc9-8d46-4616-ba88-4ee92093c848",
   "metadata": {},
   "outputs": [],
   "source": [
    "\n",
    "# 4. Importâncias\n",
    "importances_tree = pd.DataFrame({\n",
    "    \"feature\": features,\n",
    "    \"importance\": tree.feature_importances_,\n",
    "    \"modelo\": \"Decision Tree\"\n",
    "})\n",
    "\n",
    "importances_rf = pd.DataFrame({\n",
    "    \"feature\": features,\n",
    "    \"importance\": rf.feature_importances_,\n",
    "    \"modelo\": \"Random Forest\"\n",
    "})\n"
   ]
  },
  {
   "cell_type": "code",
   "execution_count": 6,
   "id": "7962fc42-a134-4349-ae8d-5bdb371d5ad4",
   "metadata": {},
   "outputs": [
    {
     "name": "stdout",
     "output_type": "stream",
     "text": [
      "Acurácia Decision Tree: 1.0000\n",
      "Acurácia Random Forest: 1.0000\n",
      "\n",
      "Importâncias comparadas:\n",
      "             feature  importance         modelo\n",
      "0  sepal length (cm)    0.000000  Decision Tree\n",
      "1   sepal width (cm)    0.000000  Decision Tree\n",
      "2  petal length (cm)    0.925108  Decision Tree\n",
      "3   petal width (cm)    0.074892  Decision Tree\n",
      "0  sepal length (cm)    0.104105  Random Forest\n",
      "1   sepal width (cm)    0.044605  Random Forest\n",
      "2  petal length (cm)    0.417308  Random Forest\n",
      "3   petal width (cm)    0.433982  Random Forest\n"
     ]
    }
   ],
   "source": [
    "\n",
    "# 5. Resultado lado a lado\n",
    "resultados = pd.concat([importances_tree, importances_rf])\n",
    "print(f\"Acurácia Decision Tree: {acc_tree:.4f}\")\n",
    "print(f\"Acurácia Random Forest: {acc_rf:.4f}\")\n",
    "print(\"\\nImportâncias comparadas:\")\n",
    "print(resultados)\n"
   ]
  },
  {
   "cell_type": "code",
   "execution_count": null,
   "id": "67a04fdd-ad16-4822-89c9-c6ddac2996a8",
   "metadata": {},
   "outputs": [],
   "source": []
  }
 ],
 "metadata": {
  "kernelspec": {
   "display_name": "Python 3 (ipykernel)",
   "language": "python",
   "name": "python3"
  },
  "language_info": {
   "codemirror_mode": {
    "name": "ipython",
    "version": 3
   },
   "file_extension": ".py",
   "mimetype": "text/x-python",
   "name": "python",
   "nbconvert_exporter": "python",
   "pygments_lexer": "ipython3",
   "version": "3.12.4"
  }
 },
 "nbformat": 4,
 "nbformat_minor": 5
}
