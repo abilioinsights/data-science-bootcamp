{
 "cells": [
  {
   "cell_type": "markdown",
   "id": "b71776c6-a589-4749-a6c4-7084521d55ab",
   "metadata": {},
   "source": [
    "## 📚 Tabela de Conteúdos\n",
    "\n",
    "- [Parte 1: Vetores](#🧮-Parte-1:-Vetores)\n",
    "- [Parte 2: Matrizes](#🧮-Parte-2:-Matrizes-e-Álgebra-Linear)\n",
    "- [Parte 3: Estatística e aplicações](#📊-Parte-3:-Estatística-com-NumPy)  \n",
    "- [Onde isso é usado?](#🧩-Aplicações-Reais-—-Onde-isso-é-usado?)"
   ]
  },
  {
   "cell_type": "markdown",
   "id": "e0ae5630-7863-4de6-9343-7505ca7c5cc1",
   "metadata": {},
   "source": [
    "# 🧮 Parte 1: Vetores\n",
    "\n",
    "🔹 Conceito\n",
    "- Um vetor é uma estrutura unidimensional que armazena uma sequência ordenada de elementos. \n",
    "- Em termos matemáticos, ele pode ser visto como uma matriz de uma única linha ou uma única coluna.\n",
    "- Já em programação (como no NumPy), é representado como um array 1D.\n",
    "\n",
    "## 🧠 Aplicações comuns:\n",
    "- Representação de pontos ou direções no espaço\n",
    "\n",
    "- Armazenamento de séries temporais ou listas de dados\n",
    "\n",
    "- Operações com álgebra vetorial (produto escalar, norma, etc.)\n",
    "\n",
    "- Entrada e saída de modelos de machine learning\n",
    "\n",
    "- Vetores de características em estatística e ciência de dados\n",
    "---"
   ]
  },
  {
   "cell_type": "markdown",
   "id": "ad7d57f9-c803-4309-ab73-37ad2f11034f",
   "metadata": {},
   "source": [
    "## 🧪 Criação de dois vetores com 4 elementos e a realização da soma entre eles.\n"
   ]
  },
  {
   "cell_type": "code",
   "execution_count": 1,
   "id": "82d1dc7a-16cb-4ca1-af5f-312f9964ae31",
   "metadata": {},
   "outputs": [],
   "source": [
    "import numpy as np"
   ]
  },
  {
   "cell_type": "code",
   "execution_count": 2,
   "id": "281c2b63-145f-4915-9d1b-f6b143de3843",
   "metadata": {},
   "outputs": [],
   "source": [
    "# Criando vetores\n",
    "v1 = np.array([2, 3])\n",
    "v2 = np.array([1, 5])"
   ]
  },
  {
   "cell_type": "code",
   "execution_count": 3,
   "id": "ca36f23b-8b53-4871-8246-a12b2b6a9aeb",
   "metadata": {},
   "outputs": [
    {
     "name": "stdout",
     "output_type": "stream",
     "text": [
      "Soma: [3 8]\n"
     ]
    }
   ],
   "source": [
    "# Soma\n",
    "print(\"Soma:\", v1 + v2)"
   ]
  },
  {
   "cell_type": "markdown",
   "id": "4082826d-321b-4847-8664-be4ff7c6fa8c",
   "metadata": {},
   "source": [
    "---\n",
    "## 🧪 Aplicando o produto escalar\n",
    "\n",
    "- Produto escalar, é como a soma porém aplicamos a multiplicação, (2 * 1 = 2) + (3 * 5 = 15) 2 + 15 = 17\n"
   ]
  },
  {
   "cell_type": "code",
   "execution_count": 4,
   "id": "5556c8a5-e387-405f-8405-8b5e3aee35ce",
   "metadata": {},
   "outputs": [
    {
     "name": "stdout",
     "output_type": "stream",
     "text": [
      "Matriz v1:\n",
      "\n",
      " [2 3] \n",
      "\n",
      "Matriz v2:\n",
      "\n",
      " [1 5] \n",
      "\n",
      "Produto escalar: 17\n"
     ]
    }
   ],
   "source": [
    "print(\"Matriz v1:\\n\\n\", v1,\"\\n\")\n",
    "print(\"Matriz v2:\\n\\n\", v2,\"\\n\")\n",
    "\n",
    "print(\"Produto escalar:\", np.dot(v1, v2))"
   ]
  },
  {
   "cell_type": "markdown",
   "id": "801d27b5-56bc-460f-95ff-b9160e0c5c56",
   "metadata": {},
   "source": [
    "---\n",
    "# 🧪 Operações com slicing\n",
    "## Invertendo o vetor\n",
    "\n",
    "# 🧪 Norma de Vetores"
   ]
  },
  {
   "cell_type": "code",
   "execution_count": 5,
   "id": "e0ebaba1-e26f-4037-969b-20d547b098c5",
   "metadata": {},
   "outputs": [
    {
     "name": "stdout",
     "output_type": "stream",
     "text": [
      "Inverso: [5 4 3 2 1]\n"
     ]
    }
   ],
   "source": [
    "v = np.array([1, 2, 3, 4, 5])\r\n",
    "print(\"Inverso:\", v[::-1])\r\n"
   ]
  },
  {
   "cell_type": "markdown",
   "id": "e7c665bf-b9cf-4068-aa02-531e2704f8b2",
   "metadata": {},
   "source": [
    "---\n",
    "# 🧪 Norma de Vetores\n",
    "- Mede o “tamanho” ou magnitude de um vetor. Muito usado em geometria e machine learning.\n",
    "- eleva o primeiro elemento ao quadrado ou seja 3²\n",
    "- eleva o segundo elemento ao quadrado ou seja 4²\n",
    "- 3² + 4² = 9 + 16 = 25\n",
    "- agora aplicamos a raiz de 25 e dará o valor 5"
   ]
  },
  {
   "cell_type": "code",
   "execution_count": 6,
   "id": "88649ea6-0da7-4b3f-9917-eb04ffec25c1",
   "metadata": {},
   "outputs": [
    {
     "name": "stdout",
     "output_type": "stream",
     "text": [
      "Norma do vetor: 5.0\n"
     ]
    }
   ],
   "source": [
    "v = np.array([3, 4])\n",
    "norma = np.linalg.norm(v)\n",
    "print(\"Norma do vetor:\", norma)"
   ]
  },
  {
   "cell_type": "markdown",
   "id": "4cc84601-1791-4b00-a687-d6a3abbba1cd",
   "metadata": {},
   "source": [
    "---\n",
    "# 🧮 Parte 2: Matrizes e Álgebra Linear\n",
    "\n",
    "- Uma matriz é uma estrutura matemática bidimensional composta por linhas e colunas, onde cada elemento ocupa uma posição definida.\n",
    "- Em programação (especialmente com NumPy), ela é representada como um array 2D, sendo amplamente utilizada para organizar dados, realizar cálculos numéricos e representar sistemas lineares.\n",
    "\n",
    "## 🧠 Aplicações comuns:\n",
    "- Representação de imagens (pixels)\n",
    "\n",
    "- Sistemas de equações lineares\n",
    "\n",
    "- Transformações geométricas\n",
    "\n",
    "- Operações em álgebra linear\n",
    "\n",
    "- Modelagem em física, estatística e machine learning\n",
    "---"
   ]
  },
  {
   "cell_type": "markdown",
   "id": "c3b227d7-a35e-4352-ad2f-02c6e3f4f114",
   "metadata": {},
   "source": [
    "## 🧪 Multiplicação das matrizes A (2×3) e B (3×2) que resultará em uma matriz 2×2.\n"
   ]
  },
  {
   "cell_type": "code",
   "execution_count": 7,
   "id": "e9cb2072-6df7-4789-b6a7-087f100682d9",
   "metadata": {},
   "outputs": [],
   "source": [
    "# Matriz\n",
    "A = np.array([[1, 2, 3],\n",
    "              [4, 5, 6]])\n",
    "\n",
    "B = np.array([[1, 4],\n",
    "              [2, 5],\n",
    "              [3, 6]])"
   ]
  },
  {
   "cell_type": "code",
   "execution_count": 8,
   "id": "2945433e-f859-4189-9394-9dc0e65e5384",
   "metadata": {},
   "outputs": [
    {
     "name": "stdout",
     "output_type": "stream",
     "text": [
      "Matriz resultante:\n",
      " [[14 32]\n",
      " [32 77]]\n"
     ]
    }
   ],
   "source": [
    "# Multiplicação de matrizes\n",
    "print(\"Matriz resultante:\\n\", np.dot(A, B))"
   ]
  },
  {
   "cell_type": "markdown",
   "id": "61dc2985-d76f-4fa0-92f5-8a9d3ad3ebc5",
   "metadata": {},
   "source": [
    "---\n",
    "## 🧪 Multiplicação de uma matriz de D (3×3) pelo vetor C, resultando em um novo vetor de 3 elementos.\n"
   ]
  },
  {
   "cell_type": "code",
   "execution_count": 9,
   "id": "a4047939-c936-4824-9bd1-0c50c59d5bec",
   "metadata": {},
   "outputs": [],
   "source": [
    "# Matriz\n",
    "C = np.array([1, 2, 3])\n",
    "\n",
    "D = np.array([[1, 4, 7],\n",
    "              [2, 5, 8],\n",
    "              [3, 6, 9]])"
   ]
  },
  {
   "cell_type": "code",
   "execution_count": 10,
   "id": "c3dbd2d6-c112-4132-ab0c-40fe3b7ff4de",
   "metadata": {},
   "outputs": [
    {
     "name": "stdout",
     "output_type": "stream",
     "text": [
      "Vetor de 3 elementos que multiplica a matriz D pelo vetor C :\n",
      " [30 36 42]\n"
     ]
    }
   ],
   "source": [
    "print(\"Vetor de 3 elementos que multiplica a matriz D pelo vetor C :\\n\", np.dot(D, C))"
   ]
  },
  {
   "cell_type": "code",
   "execution_count": 11,
   "id": "0c031fbd-44ab-4cc9-adc0-fe8d2fc5fcd5",
   "metadata": {},
   "outputs": [
    {
     "name": "stdout",
     "output_type": "stream",
     "text": [
      "Produto de 2 vetores :\n",
      " 8\n",
      "A função interna np.dot, multiplica cada posição pela posição equivalente e ao final soma tudo\n"
     ]
    }
   ],
   "source": [
    "# Calcular o dot product de dois vetores e explicar em palavras o que significa.\n",
    "A = np.array([1, 2, 1])\n",
    "\n",
    "B = np.array([2, 2, 2])\n",
    "\n",
    "print(\"Produto de 2 vetores :\\n\", np.dot(A, B))\n",
    "\n",
    "print(\"A função interna np.dot, multiplica cada posição pela posição equivalente e ao final soma tudo\")"
   ]
  },
  {
   "cell_type": "markdown",
   "id": "ec8ec880-233b-4231-a7c3-eed761f82a55",
   "metadata": {},
   "source": [
    "---\n",
    "# Matriz transposta\n",
    "\n",
    "- Inverte linhas e colunas. Muito útil em multiplicações e operações de álgebra linear."
   ]
  },
  {
   "cell_type": "code",
   "execution_count": 12,
   "id": "e85c908a-5b09-4711-aca5-53922a9f13f3",
   "metadata": {},
   "outputs": [
    {
     "name": "stdout",
     "output_type": "stream",
     "text": [
      "Matriz original:\n",
      "\n",
      " [[1 2 3 4]\n",
      " [5 6 7 8]] \n",
      "\n",
      "\n",
      "Transposta:\n",
      "\n",
      " [[1 5]\n",
      " [2 6]\n",
      " [3 7]\n",
      " [4 8]]\n"
     ]
    }
   ],
   "source": [
    "A = np.array([[1, 2, 3, 4], [5, 6, 7, 8]])\n",
    "print(\"Matriz original:\\n\\n\",A,\"\\n\\n\")\n",
    "print(\"Transposta:\\n\\n\", A.T)"
   ]
  },
  {
   "cell_type": "markdown",
   "id": "952a220e-926c-4b11-9f3c-970441d7e185",
   "metadata": {},
   "source": [
    "---\n",
    "# Reshape (Redimensionamento de Arrays)\n",
    "\n",
    "- Muda a forma de um array sem alterar os dados. Ideal para preparar dados para modelos ou visualizações."
   ]
  },
  {
   "cell_type": "code",
   "execution_count": 13,
   "id": "3d05ce05-aef4-409c-879e-ad462bcb8f01",
   "metadata": {},
   "outputs": [
    {
     "name": "stdout",
     "output_type": "stream",
     "text": [
      "Reshape para 2x3:\n",
      "\n",
      " [[1 2 3]\n",
      " [4 5 6]] \n",
      "\n",
      "Reshape para 3x2:\n",
      "\n",
      " [[1 2]\n",
      " [3 4]\n",
      " [5 6]]\n"
     ]
    }
   ],
   "source": [
    "v = np.arange(1, 7)\n",
    "print(\"Reshape para 2x3:\\n\\n\", v.reshape(2, 3),\"\\n\")\n",
    "print(\"Reshape para 3x2:\\n\\n\", v.reshape(3, 2))"
   ]
  },
  {
   "cell_type": "markdown",
   "id": "c2608e12-1827-4c53-8d19-da84ddf61484",
   "metadata": {},
   "source": [
    "---\n",
    "# Multiplicação Elemento a Elemento através da matriz"
   ]
  },
  {
   "cell_type": "code",
   "execution_count": 14,
   "id": "23a88498-2250-4941-897e-bf66b9baafde",
   "metadata": {},
   "outputs": [
    {
     "name": "stdout",
     "output_type": "stream",
     "text": [
      "Matriz A:\n",
      "\n",
      " [[1 2]\n",
      " [3 4]] \n",
      "\n",
      "Matriz B:\n",
      "\n",
      " [[2 0]\n",
      " [1 3]] \n",
      "\n",
      "Multiplicação elemento a elemento:\n",
      "\n",
      " [[ 2  0]\n",
      " [ 3 12]]\n"
     ]
    }
   ],
   "source": [
    "A = np.array([[1, 2], [3, 4]])\n",
    "B = np.array([[2, 0], [1, 3]])\n",
    "\n",
    "print(\"Matriz A:\\n\\n\", A,\"\\n\")\n",
    "print(\"Matriz B:\\n\\n\", B,\"\\n\")\n",
    "\n",
    "print(\"Multiplicação elemento a elemento:\\n\\n\", A * B)"
   ]
  },
  {
   "cell_type": "markdown",
   "id": "889e4ff7-292f-420f-8fe5-05488f8712c6",
   "metadata": {},
   "source": [
    "---\n",
    "# Inversão de Matrizes\n",
    "- Usada para resolver sistemas lineares. Só funciona com matrizes quadradas e invertíveis."
   ]
  },
  {
   "cell_type": "code",
   "execution_count": 15,
   "id": "7f10f11d-d7c4-4c64-b6fc-428b37de62df",
   "metadata": {},
   "outputs": [
    {
     "name": "stdout",
     "output_type": "stream",
     "text": [
      "Matriz original:\n",
      "\n",
      " [[1 2]\n",
      " [3 4]] \n",
      "\n",
      "\n",
      "Inversa:\n",
      "\n",
      " [[-2.   1. ]\n",
      " [ 1.5 -0.5]]\n"
     ]
    }
   ],
   "source": [
    "A = np.array([[1, 2], [3, 4]])\n",
    "A_inv = np.linalg.inv(A)\n",
    "\n",
    "print(\"Matriz original:\\n\\n\", A,\"\\n\\n\")\n",
    "print(\"Inversa:\\n\\n\", A_inv)"
   ]
  },
  {
   "cell_type": "markdown",
   "id": "2be19cb4-ce66-4c3a-bba0-7a9263847f58",
   "metadata": {},
   "source": [
    "---\n",
    "# Determinante de Matrizes\n",
    "- Indica se uma matriz é invertível e tem aplicações em geometria e transformações lineares."
   ]
  },
  {
   "cell_type": "code",
   "execution_count": 16,
   "id": "f8edaf2c-3b86-47f6-b054-a51a1587210d",
   "metadata": {},
   "outputs": [
    {
     "name": "stdout",
     "output_type": "stream",
     "text": [
      "Matriz A:\n",
      "\n",
      " [[1 2]\n",
      " [3 4]] \n",
      "\n",
      "Determinante: -2.0000000000000004\n"
     ]
    }
   ],
   "source": [
    "A = np.array([[1, 2], [3, 4]])\n",
    "\n",
    "print(\"Matriz A:\\n\\n\", A,\"\\n\")\n",
    "\n",
    "\n",
    "print(\"Determinante:\", np.linalg.det(A))"
   ]
  },
  {
   "cell_type": "markdown",
   "id": "41942955-8b77-4d0e-bf85-833cbec0f41d",
   "metadata": {},
   "source": [
    "---\n",
    "# 📊 Parte 3: Estatística com NumPy\n",
    "- Análise de dados, normalização, e pré-processamento em ciência de dados."
   ]
  },
  {
   "cell_type": "code",
   "execution_count": 17,
   "id": "3a4542a6-f8d0-4d86-a773-0d24afdceb5f",
   "metadata": {},
   "outputs": [
    {
     "name": "stdout",
     "output_type": "stream",
     "text": [
      "Média Aritmética: 3.0\n",
      "Mediana: 3.0\n",
      "\n",
      "Desvio padrão: 1.4142135623730951\n",
      "Variança: 2.0\n",
      "\n",
      "Minimo: 1\n",
      "Máximo: 5\n",
      "\n",
      "Soma total dos elementos: 15\n",
      "Soma acumulada: [ 1  3  6 10 15]\n",
      "\n",
      "Produto de todos os elementos: 120\n",
      "Coeficiente de correlação entre arrays: 1.0\n",
      "\n",
      "Histograma dos dados(frequencia por intervalo):\n",
      " (array([1, 0, 1, 0, 0, 1, 0, 1, 0, 1], dtype=int64), array([1. , 1.4, 1.8, 2.2, 2.6, 3. , 3.4, 3.8, 4.2, 4.6, 5. ]))\n",
      "\n",
      "Contagem de inteiros não negativos: [0 1 1 1 1 1]\n",
      "\n",
      "Valores únicos e suas contagens: [1 2 3 4 5]\n",
      "Indice do maior valor: 4\n",
      "Indice do menor valor: 0\n"
     ]
    }
   ],
   "source": [
    "v = np.array([1, 2, 3, 4, 5])\n",
    "print(\"Média Aritmética:\", np.mean(v))\n",
    "print(\"Mediana:\", np.median(v))\n",
    "print(\"\\nDesvio padrão:\", np.std(v))\n",
    "print(\"Variança:\", np.var(v))\n",
    "print(\"\\nMinimo:\", np.min(v))\n",
    "print(\"Máximo:\", np.max(v))\n",
    "print(\"\\nSoma total dos elementos:\", np.sum(v))\n",
    "print(\"Soma acumulada:\", np.cumsum(v))\n",
    "print(\"\\nProduto de todos os elementos:\", np.prod(v))\n",
    "print(\"Coeficiente de correlação entre arrays:\", np.corrcoef(v))\n",
    "print(\"\\nHistograma dos dados(frequencia por intervalo):\\n\", np.histogram(v))\n",
    "print(\"\\nContagem de inteiros não negativos:\", np.bincount(v))\n",
    "print(\"\\nValores únicos e suas contagens:\", np.unique(v))\n",
    "print(\"Indice do maior valor:\", np.argmax(v))\n",
    "print(\"Indice do menor valor:\", np.argmin(v))"
   ]
  },
  {
   "cell_type": "markdown",
   "id": "15aa3dca-cba6-4576-abb4-5f837236e9d3",
   "metadata": {},
   "source": [
    "---\n",
    "# Produto Vetorial\n",
    "- Retorna um vetor perpendicular aos dois vetores originais. Fundamental em física e gráficos 3D."
   ]
  },
  {
   "cell_type": "code",
   "execution_count": 18,
   "id": "2442d48e-c674-4870-af59-c099aaa4c20d",
   "metadata": {},
   "outputs": [
    {
     "name": "stdout",
     "output_type": "stream",
     "text": [
      "Produto vetorial: [0 0 1]\n"
     ]
    }
   ],
   "source": [
    "a = np.array([1, 0, 0])\n",
    "b = np.array([0, 1, 0])\n",
    "print(\"Produto vetorial:\", np.cross(a, b))"
   ]
  },
  {
   "cell_type": "markdown",
   "id": "7acdc416-ca2c-4796-a678-6e3fd646faf5",
   "metadata": {},
   "source": [
    "---\n",
    "# Soma e Média por Eixo \n",
    "- Permite analisar dados por dimensão (linhas ou colunas)."
   ]
  },
  {
   "cell_type": "code",
   "execution_count": 19,
   "id": "783be0ad-27cb-4dfa-9939-c5dcfd13d4a5",
   "metadata": {},
   "outputs": [
    {
     "name": "stdout",
     "output_type": "stream",
     "text": [
      "Soma por linha: [3 7]\n",
      "Soma por colunA: [4 6]\n",
      "\n",
      "Média por linha: [1.5 3.5]\n",
      "Média por coluna: [2. 3.]\n"
     ]
    }
   ],
   "source": [
    "A = np.array([[1, 2], [3, 4]])\n",
    "print(\"Soma por linha:\", np.sum(A, axis=1))\n",
    "print(\"Soma por colunA:\", np.sum(A, axis=0))\n",
    "\n",
    "print(\"\\nMédia por linha:\", np.mean(A, axis=1))\n",
    "print(\"Média por coluna:\", np.mean(A, axis=0))"
   ]
  },
  {
   "cell_type": "code",
   "execution_count": 20,
   "id": "2709ec10-b86a-49e0-9fa6-930f3ff9cdb8",
   "metadata": {},
   "outputs": [
    {
     "name": "stdout",
     "output_type": "stream",
     "text": [
      "Matriz A:\n",
      "\n",
      " [[1 2]\n",
      " [3 4]] \n",
      "\n",
      "Matriz B:\n",
      "\n",
      " [[2 0]\n",
      " [1 3]] \n",
      "\n",
      "Linha 1 de A: [1, 2]\n",
      "\n",
      "Coluna 1 de B: [2, 1] → 1 × 2 + 2 × 1 = 4 \n",
      "Coluna 2 de B: [0, 3] → 1 × 0 + 2 × 3 = 6\n",
      "\n",
      "\n",
      "Linha 2 de A: [3, 4]\n",
      "\n",
      "\n",
      "Coluna 1 de B: [2, 1] → 3 × 2 + 4 × 1 = 10\n",
      "Coluna 2 de B: [0, 3] → 3 × 0 + 4 × 3 = 12\n",
      "\n",
      "\n",
      "Produto matricial:\n",
      " [[ 4  6]\n",
      " [10 12]]\n"
     ]
    }
   ],
   "source": [
    "A = np.array([[1, 2], [3, 4]])\n",
    "B = np.array([[2, 0], [1, 3]])\n",
    "\n",
    "print(\"Matriz A:\\n\\n\", A,\"\\n\")\n",
    "print(\"Matriz B:\\n\\n\", B,\"\\n\")\n",
    "\n",
    "print(\"Linha 1 de A: [1, 2]\\n\")\n",
    "print(\"Coluna 1 de B: [2, 1] → 1 × 2 + 2 × 1 = 4 \")\n",
    "print(\"Coluna 2 de B: [0, 3] → 1 × 0 + 2 × 3 = 6\")\n",
    "\n",
    "print(\"\\n\\nLinha 2 de A: [3, 4]\\n\\n\")\n",
    "\n",
    "print(\"Coluna 1 de B: [2, 1] → 3 × 2 + 4 × 1 = 10\")\n",
    "\n",
    "print(\"Coluna 2 de B: [0, 3] → 3 × 0 + 4 × 3 = 12\\n\\n\")\n",
    "\n",
    "print(\"Produto matricial:\\n\",np.dot(A,B))"
   ]
  },
  {
   "cell_type": "markdown",
   "id": "5e54754c-d7f2-43fb-9311-ad383281543f",
   "metadata": {},
   "source": [
    "---\n",
    "# Sistemas Lineares\n",
    "- Resolve equações do tipo Ax = b. Muito usado em engenharia e modelagem matemática."
   ]
  },
  {
   "cell_type": "code",
   "execution_count": 21,
   "id": "bd7f2883-1a6c-4736-94a9-5b353e7dbe3b",
   "metadata": {},
   "outputs": [
    {
     "name": "stdout",
     "output_type": "stream",
     "text": [
      "Matriz A:\n",
      "\n",
      " [[2 1]\n",
      " [1 3]] \n",
      "\n",
      "Matriz B:\n",
      "\n",
      " [ 8 13] \n",
      "\n",
      "Solução do sistema: [2.2 3.6]\n"
     ]
    }
   ],
   "source": [
    "A = np.array([[2, 1], [1, 3]])\n",
    "b = np.array([8, 13])\n",
    "x = np.linalg.solve(A, b)\n",
    "\n",
    "print(\"Matriz A:\\n\\n\", A,\"\\n\")\n",
    "print(\"Matriz B:\\n\\n\", b,\"\\n\")\n",
    "\n",
    "print(\"Solução do sistema:\", x)"
   ]
  },
  {
   "cell_type": "markdown",
   "id": "d070c320-1f09-44f9-ba7e-3f89b2ee5d53",
   "metadata": {},
   "source": [
    "---\n",
    "# 🧩 Aplicações Reais — Onde isso é usado?\n",
    "## 🧠 1. Machine Learning\n",
    "- Produto escalar é usado em redes neurais para calcular ativações.\n",
    "- Magnitude é usada para normalizar vetores (ex: vetores de características).\n",
    "\n",
    "## 📸 2. Processamento de Imagens\n",
    "- Matrizes representam imagens (pixels).\n",
    "\n",
    "- Multiplicações de matrizes são usadas em filtros, convoluções e transformações geométricas.\n",
    "\n",
    "## 🧭 3. Física e Engenharia\n",
    "- Produto escalar mede o trabalho realizado por uma força.\n",
    "\n",
    "- Produto vetorial calcula torque ou vetores perpendiculares.\n",
    "\n",
    "## 📈 4. Análise de Dados\n",
    "- Estatísticas como média, desvio padrão e correlação são usadas para entender padrões em dados financeiros, científicos ou sociais.\n",
    "\n",
    "## 🧮 5. Geometria Computacional\n",
    "- Vetores são usados para calcular distâncias, ângulos, direções e projeções."
   ]
  }
 ],
 "metadata": {
  "kernelspec": {
   "display_name": "Python 3 (ipykernel)",
   "language": "python",
   "name": "python3"
  },
  "language_info": {
   "codemirror_mode": {
    "name": "ipython",
    "version": 3
   },
   "file_extension": ".py",
   "mimetype": "text/x-python",
   "name": "python",
   "nbconvert_exporter": "python",
   "pygments_lexer": "ipython3",
   "version": "3.12.4"
  }
 },
 "nbformat": 4,
 "nbformat_minor": 5
}
