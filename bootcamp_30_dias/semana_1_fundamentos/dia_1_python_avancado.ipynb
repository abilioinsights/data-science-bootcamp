{
 "cells": [
  {
   "cell_type": "markdown",
   "id": "3340b376-cc69-4596-99e4-a7ddc2aad39f",
   "metadata": {},
   "source": [
    "# Dia 1 — Python avançado (listas, dicionários, loops, funções)\n"
   ]
  },
  {
   "cell_type": "markdown",
   "id": "20acfbf6-c3ba-4035-8766-0caf3174efd2",
   "metadata": {},
   "source": [
    "## 🧮 Exercício: Análise de Números Pares e Ímpares em uma Lista\r\n",
    "\r\n",
    "### 🎯 Objetivo\r\n",
    "Desenvolver um programa em Python que analise uma lista de números inteiros consecutivos e identifique os números pares e ímpares, suas respectivas quantidades e somas.\r\n",
    "\r\n",
    "---\r\n",
    "\r\n",
    "### 📋 Descrição\r\n",
    "Crie um programa que gere uma lista de números inteiros de **1 a 50**. Em seguida, o programa deve:\r\n",
    "\r\n",
    "1. Separar os números **pares** e **ímpares** em listas distintas.  \r\n",
    "2. Calcular a **quantidade** de números pares e ímpares.  \r\n",
    "3. Calcular a **soma total** dos números da lista.  \r\n",
    "4. Calcular a **soma dos números pares** e a **soma dos números ímpares**.  \r\n",
    "5. Exibir **todas essas informações** de forma organizada.\r\n",
    "\r\n",
    "---\r\n",
    "\r\n",
    "### 🛠️ Requisitos\r\n",
    "- Utilizar estruturas de controle como `for`, `if`, listas e funções nativas.\r\n",
    "- Não utilizar bibliotecas externas.\r\n",
    "\r\n",
    "---\r\n",
    "\r\n",
    "### 💡 Exemplo de saída esperada\r\n",
    "```python\r\n",
    "🔢 Lista de números: [1, 2, 3, ..., 50]\r\n",
    "\r\n",
    "✅ Quantidade de pares: 25  \r\n",
    "✅ Quantidade de ímpares: 25\r\n",
    "\r\n",
    "➕ Soma total: 1275  \r\n",
    "➕ Soma dos pares: 650  \r\n",
    "➕ Soma dos ímpares: 625\r\n",
    "\r\n",
    "📂 Lista de pares: [2, 4, 6, ..., 50]  \r\n",
    "📂 Lista de ímpares: [1, 3, 5, ..., 49]\r\n"
   ]
  },
  {
   "cell_type": "code",
   "execution_count": 1,
   "id": "fc938744-df79-47b9-a895-d5364e56f26c",
   "metadata": {},
   "outputs": [],
   "source": [
    "def separar_pares_impares(lista):\n",
    "    pares = [n for n in lista if n % 2 == 0]\n",
    "    impares = [n for n in lista if n % 2 != 0]\n",
    "    qtd_pares = len(pares)\n",
    "    qtd_impares = len(impares)\n",
    "    return pares, impares, qtd_pares, qtd_impares"
   ]
  },
  {
   "cell_type": "code",
   "execution_count": 2,
   "id": "136996b3-74c8-46c1-9527-9021e7a3dfd4",
   "metadata": {},
   "outputs": [
    {
     "name": "stdout",
     "output_type": "stream",
     "text": [
      "Soma de cada número da lista: 1275\n",
      "\n",
      "Quantidade de números pares: 25\n",
      "Lista de Números pares: [2, 4, 6, 8, 10, 12, 14, 16, 18, 20, 22, 24, 26, 28, 30, 32, 34, 36, 38, 40, 42, 44, 46, 48, 50]\n",
      "Soma dos números pares: 650\n",
      "\n",
      "Quantidade de números ímpares: 25\n",
      "Lista de Números ímpares: [1, 3, 5, 7, 9, 11, 13, 15, 17, 19, 21, 23, 25, 27, 29, 31, 33, 35, 37, 39, 41, 43, 45, 47, 49]\n",
      "Soma dos números ímpares: 625\n"
     ]
    }
   ],
   "source": [
    "listaNumeros = list(range(1, 51))\n",
    "pares, impares, qtd_pares, qtd_impares = separar_pares_impares(listaNumeros)\n",
    "\n",
    "print(f\"Soma de cada número da lista: {sum(listaNumeros)}\\n\")\n",
    "print(f\"Quantidade de números pares: {qtd_pares}\\nLista de Números pares: {pares}\\nSoma dos números pares: {sum(pares)}\\n\")\n",
    "print(f\"Quantidade de números ímpares: {qtd_impares}\\nLista de Números ímpares: {impares}\\nSoma dos números ímpares: {sum(impares)}\")\n"
   ]
  },
  {
   "cell_type": "markdown",
   "id": "963274d1-a977-485b-8da1-ba76284b59e4",
   "metadata": {},
   "source": [
    "## 📝 Exercício: Filtrando valores em um dicionário com Python\n",
    "\n",
    "### 🎯 Objetivo\n",
    "Praticar a criação e manipulação de dicionários em Python, utilizando compreensão de dicionário e estruturas de controle de fluxo.\n",
    "\n",
    "---\n",
    "\n",
    "### 📋 Descrição\n",
    "Crie um programa que:\n",
    "\n",
    "1. Gere um dicionário cujas chaves sejam as letras de `'a'` a `'e'`.\n",
    "2. Associe a cada chave um valor inteiro aleatório entre 1 e 100.\n",
    "3. Exiba o dicionário completo.\n",
    "4. Imprima apenas as **chaves cujos valores sejam maiores que 50**, junto com seus respectivos valores.\n",
    "\n",
    "---\n",
    "\n",
    "### 🛠️ Requisitos\n",
    "- Utilizar o módulo `random` para gerar os números.\n",
    "- Utilizar `for` e `if` para filtrar os valores.\n",
    "- Não utilizar bibliotecas externas além de `random`.\n",
    "\n",
    "---\n",
    "\n",
    "### 💡 Exemplo de saída esperada\n",
    "```python\n",
    "🔢 Dicionário completo:\n",
    "{'a': 34, 'b': 78, 'c': 12, 'd': 91, 'e': 47}\n",
    "\n",
    "🔍 Chaves com valores maiores que 50:\n",
    "→ b: 78  \n",
    "→ d: 91\n"
   ]
  },
  {
   "cell_type": "code",
   "execution_count": 3,
   "id": "9e080f5c-616e-4fd6-bb7a-8732ee2da986",
   "metadata": {},
   "outputs": [
    {
     "name": "stdout",
     "output_type": "stream",
     "text": [
      "🔢 Dicionário completo:\n",
      "{'a': 76, 'b': 55, 'c': 50, 'd': 38, 'e': 44}\n",
      "\n",
      "🔍 Chaves com valores maiores que 50:\n",
      "→ a: 76\n",
      "→ b: 55\n"
     ]
    }
   ],
   "source": [
    "import random\n",
    "\n",
    "# Letras de 'a' a 'e'\n",
    "letras = ['a', 'b', 'c', 'd', 'e']\n",
    "\n",
    "# Criando o dicionário com valores aleatórios entre 1 e 100\n",
    "dicionario = {letra: random.randint(1, 100) for letra in letras}\n",
    "\n",
    "print(\"🔢 Dicionário completo:\")\n",
    "print(dicionario)\n",
    "\n",
    "# Imprimindo apenas as chaves com valores maiores que 50\n",
    "print(\"\\n🔍 Chaves com valores maiores que 50:\")\n",
    "for chave, valor in dicionario.items():\n",
    "    if valor > 50:\n",
    "        print(f\"→ {chave}: {valor}\")\n"
   ]
  },
  {
   "cell_type": "markdown",
   "id": "c648ecfd-6e57-4a60-b5f9-7d579fc7c697",
   "metadata": {},
   "source": [
    "## 📘 Exercício: Estatísticas Básicas com Python Puro\r\n",
    "\r\n",
    "### 🎯 Objetivo\r\n",
    "Desenvolver uma função em Python que calcule estatísticas fundamentais de uma lista de números inteiros, utilizando apenas recursos nativos da linguagem.\r\n",
    "\r\n",
    "---\r\n",
    "\r\n",
    "### 📋 Descrição\r\n",
    "Implemente uma função chamada `estatisticas_lista(lista)` que receba uma lista de números e retorne:\r\n",
    "\r\n",
    "1. A **média** dos valores (soma dividida pela quantidade de elementos).  \r\n",
    "2. A **mediana**, que representa o valor central da lista ordenada.  \r\n",
    "3. O **desvio padrão amostral**, que indica o grau de dispersão dos valores em relação à média.  \r\n",
    "4. A **lista ordenada**, para facilitar a visualização e validação da mediana.\r\n",
    "\r\n",
    "---\r\n",
    "\r\n",
    "### 🧪 Teste da função\r\n",
    "Utilize a função para analisar a lista:  \r\n",
    "```python\r\n",
    "[12, 45, 67, 23, 89, 34, 22]\r\n"
   ]
  },
  {
   "cell_type": "code",
   "execution_count": 4,
   "id": "15ab8484-e62c-477c-8cbd-0b9425acbc43",
   "metadata": {},
   "outputs": [],
   "source": [
    "def estatisticas_lista(lista):\n",
    "    n = len(lista)\n",
    "    soma = sum(lista)\n",
    "    media = soma / n\n",
    "\n",
    "    # Mediana\n",
    "    lista_ordenada = sorted(lista)\n",
    "    if n % 2 == 1:\n",
    "        mediana = lista_ordenada[n // 2]\n",
    "    else:\n",
    "        meio1 = lista_ordenada[n // 2 - 1]\n",
    "        meio2 = lista_ordenada[n // 2]\n",
    "        mediana = (meio1 + meio2) / 2\n",
    "\n",
    "    # Desvio padrão (amostral)\n",
    "    soma_quadrados = sum((x - media) ** 2 for x in lista)\n",
    "    desvio_padrao = (soma_quadrados / (n - 1)) ** 0.5\n",
    "\n",
    "    return media, mediana, desvio_padrao, lista_ordenada\n"
   ]
  },
  {
   "cell_type": "code",
   "execution_count": 5,
   "id": "9b1df35d-d163-433a-8a45-dd9de82bdcb5",
   "metadata": {},
   "outputs": [
    {
     "name": "stdout",
     "output_type": "stream",
     "text": [
      "\n",
      "📊 Estatísticas da lista:\n",
      "\n",
      "→ Lista original: [12, 45, 67, 23, 89, 34, 22]\n",
      "→ Lista ordenada: [12, 22, 23, 34, 45, 67, 89]\n",
      "\n",
      "→ Soma: 292\n",
      "→ Média: 41.71\n",
      "\n",
      "→ Mediana: 34\n",
      "→ Desvio Padrão: 27.59\n"
     ]
    }
   ],
   "source": [
    "lista_numeros = [12, 45, 67, 23, 89, 34, 22]\n",
    "\n",
    "media, mediana, desvio, lista_ordenada = estatisticas_lista(lista_numeros)\n",
    "\n",
    "print(f\"\\n📊 Estatísticas da lista:\\n\")\n",
    "print(f\"→ Lista original: {lista_numeros}\")\n",
    "print(f\"→ Lista ordenada: {lista_ordenada}\\n\")\n",
    "print(f\"→ Soma: {sum(lista_numeros)}\")\n",
    "print(f\"→ Média: {media:.2f}\\n\")\n",
    "print(f\"→ Mediana: {mediana}\")\n",
    "print(f\"→ Desvio Padrão: {desvio:.2f}\")\n"
   ]
  },
  {
   "cell_type": "code",
   "execution_count": null,
   "id": "4d81011a-c3be-4f73-911f-3f60f52cc847",
   "metadata": {},
   "outputs": [],
   "source": []
  }
 ],
 "metadata": {
  "kernelspec": {
   "display_name": "Python 3 (ipykernel)",
   "language": "python",
   "name": "python3"
  },
  "language_info": {
   "codemirror_mode": {
    "name": "ipython",
    "version": 3
   },
   "file_extension": ".py",
   "mimetype": "text/x-python",
   "name": "python",
   "nbconvert_exporter": "python",
   "pygments_lexer": "ipython3",
   "version": "3.12.4"
  }
 },
 "nbformat": 4,
 "nbformat_minor": 5
}
