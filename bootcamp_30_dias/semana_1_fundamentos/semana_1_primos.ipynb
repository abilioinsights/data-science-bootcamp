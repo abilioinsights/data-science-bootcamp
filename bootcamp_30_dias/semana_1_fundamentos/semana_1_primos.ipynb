{
 "cells": [
  {
   "cell_type": "markdown",
   "id": "6f886f10-d064-49c4-bb79-da492924e952",
   "metadata": {},
   "source": [
    "# Números Primos e Algoritmos de Geração\n",
    "## 1. Introdução\n",
    "\n",
    "Números primos são inteiros maiores que 1 que só podem ser divididos por 1 e por eles mesmos.\n",
    "\n",
    "**Importância:**\n",
    "- Criptografia moderna (RSA, Diffie-Hellman, etc.)\n",
    "- Teoria dos números\n",
    "- Otimização e algoritmos\n",
    "\n",
    "**Objetivo deste notebook:**\n",
    "Implementar e comparar diferentes algoritmos de geração de números primos, medindo tempo e uso de memória."
   ]
  },
  {
   "cell_type": "code",
   "execution_count": 2,
   "id": "3817177f",
   "metadata": {},
   "outputs": [
    {
     "name": "stdout",
     "output_type": "stream",
     "text": [
      "True\n"
     ]
    }
   ],
   "source": [
    "import math\n",
    "\n",
    "def eh_primo(n):\n",
    "    if n < 2:\n",
    "        return False\n",
    "    if n == 2:\n",
    "        return True\n",
    "    if n % 2 == 0:\n",
    "        return False\n",
    "    limite = int(math.sqrt(n)) + 1\n",
    "    for i in range(3, limite, 2):\n",
    "        if n % i == 0:\n",
    "            return False\n",
    "    return True\n",
    "\n",
    "print(eh_primo(29))"
   ]
  },
  {
   "cell_type": "markdown",
   "id": "dea6d2ff",
   "metadata": {},
   "source": [
    "\n",
    "# Teste de Mesa – `eh_primo(29)`\n",
    "\n",
    "**Entrada:** `n = 29`  \n",
    "\n",
    "1. Verifica `n < 2` → ❌ (29 não é menor que 2)  \n",
    "2. Verifica `n == 2` → ❌ (29 ≠ 2)  \n",
    "3. Verifica `n % 2 == 0` → ❌ (29 não é par)  \n",
    "4. Calcula limite: $\\lfloor \\sqrt{29} \\rfloor + 1 = 6$  \n",
    "5. Laço `for i in range(3, 6, 2)` → valores de `i`: **3, 5**  \n",
    "   - `i = 3` → $29 \\bmod 3 \\neq 0$ → continua  \n",
    "   - `i = 5` → $29 \\bmod 5 \\neq 0$ → continua  \n",
    "\n",
    "**✅ Resultado final:** 29 é primo  \n"
   ]
  },
  {
   "cell_type": "code",
   "execution_count": 3,
   "id": "509ea9ee",
   "metadata": {},
   "outputs": [
    {
     "name": "stdout",
     "output_type": "stream",
     "text": [
      "[2, 3, 5, 7, 11, 13, 17, 19, 23, 29]\n"
     ]
    }
   ],
   "source": [
    "def crivo_eratostenes(n):\n",
    "    primos = [True] * (n+1)\n",
    "    primos[0] = primos[1] = False\n",
    "    for i in range(2, int(math.sqrt(n)) + 1):\n",
    "        if primos[i]:\n",
    "            for j in range(i*i, n+1, i):\n",
    "                primos[j] = False\n",
    "    return [i for i, primo in enumerate(primos) if primo]\n",
    "\n",
    "print(crivo_eratostenes(30))"
   ]
  },
  {
   "cell_type": "markdown",
   "id": "79ff7cef",
   "metadata": {},
   "source": [
    "\n",
    "# Teste de Mesa – `crivo_eratostenes(30)`\n",
    "\n",
    "1. Início: `primos = [True] * 31`  \n",
    "2. Ajuste: `primos[0] = primos[1] = False`  \n",
    "3. Loop `i` até $\\sqrt{30}$ → `i = 2, 3, 4, 5`  \n",
    "\n",
    "- `i = 2` → elimina múltiplos (4, 6, 8, …, 30)  \n",
    "- `i = 3` → elimina múltiplos (9, 12, 15, …, 30)  \n",
    "- `i = 4` → já marcado como falso, pula  \n",
    "- `i = 5` → elimina múltiplos (25, 30)  \n",
    "\n",
    "**✅ Restam:** [2, 3, 5, 7, 11, 13, 17, 19, 23, 29]  \n"
   ]
  },
  {
   "cell_type": "code",
   "execution_count": 4,
   "id": "edca44e9",
   "metadata": {},
   "outputs": [
    {
     "name": "stdout",
     "output_type": "stream",
     "text": [
      "[ 2  3  5  7 11 13 17 19 23 29]\n"
     ]
    }
   ],
   "source": [
    "import numpy as np\n",
    "\n",
    "def crivo_numpy(n):\n",
    "    primos = np.ones(n+1, dtype=bool)\n",
    "    primos[0:2] = False\n",
    "    for i in range(2, int(n**0.5) + 1):\n",
    "        if primos[i]:\n",
    "            primos[i*i:n+1:i] = False\n",
    "    return np.nonzero(primos)[0]\n",
    "\n",
    "print(crivo_numpy(30))"
   ]
  },
  {
   "cell_type": "markdown",
   "id": "9dc54d07",
   "metadata": {},
   "source": [
    "\n",
    "# Teste de Mesa – `crivo_numpy(30)`\n",
    "\n",
    "1. Cria vetor booleano `primos = np.ones(31, dtype=bool)`  \n",
    "2. Ajuste: `primos[0:2] = False`  \n",
    "3. Loop `i` até $\\sqrt{30}$ → elimina múltiplos de cada primo de forma vetorizada:  \n",
    "\n",
    "- `i = 2` → `primos[4::2] = False`  \n",
    "- `i = 3` → `primos[9::3] = False`  \n",
    "- `i = 4` → já está falso, pula  \n",
    "- `i = 5` → `primos[25::5] = False`  \n",
    "\n",
    "**✅ Resultado final:** mesmo do Eratóstenes → [2, 3, 5, 7, 11, 13, 17, 19, 23, 29]  \n"
   ]
  },
  {
   "cell_type": "code",
   "execution_count": 5,
   "id": "bd5f9a40",
   "metadata": {},
   "outputs": [
    {
     "name": "stdout",
     "output_type": "stream",
     "text": [
      "[2, 3, 5, 7, 11, 13, 17, 19, 23, 29]\n"
     ]
    }
   ],
   "source": [
    "def crivo_segmentado(n):\n",
    "    limite = int(math.sqrt(n)) + 1\n",
    "    primos_base = crivo_eratostenes(limite)\n",
    "    primos = primos_base.copy()\n",
    "    inicio = limite\n",
    "    while inicio <= n:\n",
    "        fim = min(inicio + limite, n+1)\n",
    "        segmento = [True] * (fim - inicio)\n",
    "        for p in primos_base:\n",
    "            inicio_mult = max(p*p, (inicio + p - 1) // p * p)\n",
    "            for j in range(inicio_mult, fim, p):\n",
    "                segmento[j - inicio] = False\n",
    "        for i, val in enumerate(segmento):\n",
    "            if val:\n",
    "                primos.append(i + inicio)\n",
    "        inicio += limite\n",
    "    return primos\n",
    "\n",
    "print(crivo_segmentado(30))"
   ]
  },
  {
   "cell_type": "markdown",
   "id": "9807cf69",
   "metadata": {},
   "source": [
    "\n",
    "# Teste de Mesa – `crivo_segmentado(30)`\n",
    "\n",
    "1. Calcula `limite = ⌊√30⌋ + 1 = 6`  \n",
    "2. `primos_base = crivo_eratostenes(6)` → [2, 3, 5]  \n",
    "3. `primos = [2, 3, 5]`  \n",
    "\n",
    "**Segmentos:**  \n",
    "\n",
    "- `[6, 12)` → elimina múltiplos de 2, 3, 5 → sobra [7, 11]  \n",
    "- `[12, 18)` → elimina múltiplos de 2, 3, 5 → sobra [13, 17]  \n",
    "- `[18, 24)` → elimina múltiplos de 2, 3, 5 → sobra [19, 23]  \n",
    "- `[24, 30]` → elimina múltiplos de 2, 3, 5 → sobra [29]  \n",
    "\n",
    "**✅ Resultado final:** [2, 3, 5, 7, 11, 13, 17, 19, 23, 29]  "
   ]
  },
  {
   "cell_type": "code",
   "execution_count": 6,
   "id": "6e8bc9f5-c8d9-4d15-9bf1-7e615861e0cb",
   "metadata": {},
   "outputs": [
    {
     "data": {
      "text/html": [
       "<div>\n",
       "<style scoped>\n",
       "    .dataframe tbody tr th:only-of-type {\n",
       "        vertical-align: middle;\n",
       "    }\n",
       "\n",
       "    .dataframe tbody tr th {\n",
       "        vertical-align: top;\n",
       "    }\n",
       "\n",
       "    .dataframe thead th {\n",
       "        text-align: right;\n",
       "    }\n",
       "</style>\n",
       "<table border=\"1\" class=\"dataframe\">\n",
       "  <thead>\n",
       "    <tr style=\"text-align: right;\">\n",
       "      <th></th>\n",
       "      <th>tempo (s)</th>\n",
       "      <th>memória (MB)</th>\n",
       "      <th>qtde primos</th>\n",
       "      <th>algoritmo</th>\n",
       "    </tr>\n",
       "  </thead>\n",
       "  <tbody>\n",
       "    <tr>\n",
       "      <th>0</th>\n",
       "      <td>0.753824</td>\n",
       "      <td>2.599342</td>\n",
       "      <td>9592</td>\n",
       "      <td>Crivo Eratóstenes</td>\n",
       "    </tr>\n",
       "    <tr>\n",
       "      <th>1</th>\n",
       "      <td>0.002441</td>\n",
       "      <td>0.073914</td>\n",
       "      <td>9592</td>\n",
       "      <td>Crivo NumPy</td>\n",
       "    </tr>\n",
       "    <tr>\n",
       "      <th>2</th>\n",
       "      <td>1.197910</td>\n",
       "      <td>0.416794</td>\n",
       "      <td>9593</td>\n",
       "      <td>Crivo Segmentado</td>\n",
       "    </tr>\n",
       "  </tbody>\n",
       "</table>\n",
       "</div>"
      ],
      "text/plain": [
       "   tempo (s)  memória (MB)  qtde primos          algoritmo\n",
       "0   0.753824      2.599342         9592  Crivo Eratóstenes\n",
       "1   0.002441      0.073914         9592        Crivo NumPy\n",
       "2   1.197910      0.416794         9593   Crivo Segmentado"
      ]
     },
     "execution_count": 6,
     "metadata": {},
     "output_type": "execute_result"
    }
   ],
   "source": [
    "## 4. Benchmark de desempenho\n",
    "\n",
    "import timeit                # Para medir tempo de execução de funções com precisão\n",
    "import psutil, tracemalloc, pandas as pd\n",
    "# psutil -> obtém informações detalhadas sobre o processo Python (CPU, memória)\n",
    "# tracemalloc -> rastreia a memória alocada pelo Python, permite capturar picos\n",
    "# pandas -> cria DataFrames para organizar resultados e compará-los facilmente\n",
    "\n",
    "# Função que mede tempo de execução e uso de memória de qualquer função\n",
    "def medir_tempo_memoria(func, *args):\n",
    "    tracemalloc.start()  # Inicia o rastreamento da memória Python\n",
    "    # tracemalloc rastreia apenas memória alocada pelo Python, não pelo sistema externo\n",
    "    # Isso é útil para saber quanta memória o seu código realmente está usando internamente\n",
    "    \n",
    "    processo = psutil.Process()  # Representa o processo Python atual\n",
    "    mem_inicial = processo.memory_info().rss  \n",
    "    # RSS (Resident Set Size) -> quantidade de memória física usada pelo processo\n",
    "    # Diferente do tracemalloc, isso inclui tudo que o processo consome, não só objetos Python\n",
    "\n",
    "    inicio = timeit.default_timer()  # Marca o tempo de início da execução\n",
    "    resultado = func(*args)          # Executa a função com os argumentos fornecidos\n",
    "    fim = timeit.default_timer()     # Marca o tempo de término\n",
    "\n",
    "    mem_final = processo.memory_info().rss  # Memória após execução\n",
    "    pico, _ = tracemalloc.get_traced_memory()  \n",
    "    # Pega o pico de memória alocada pelo Python durante a execução\n",
    "    tracemalloc.stop()  \n",
    "    # Para o rastreamento do Python, liberando recursos\n",
    "\n",
    "    # Calcula memória total usada:\n",
    "    # mem_final - mem_inicial -> diferença real do processo no sistema\n",
    "    # pico -> memória interna do Python, para capturar picos temporários que RSS sozinho não mostra\n",
    "    memoria_MB = (mem_final - mem_inicial + pico) / (1024*1024)  # Converte de bytes para MB\n",
    "\n",
    "    # Retorna dicionário com métricas:\n",
    "    return {\n",
    "        \"tempo (s)\": fim - inicio,      # Tempo total de execução\n",
    "        \"memória (MB)\": memoria_MB,     # Memória total usada (inclui pico do Python)\n",
    "        \"qtde primos\": len(resultado)   # Quantidade de primos encontrados (assumindo lista de primos)\n",
    "    }\n",
    "\n",
    "n = 100000  # Limite superior para a geração de primos\n",
    "\n",
    "resultados = []  # Lista que armazenará métricas de cada algoritmo\n",
    "algoritmos = {\n",
    "    \"Crivo Eratóstenes\": crivo_eratostenes,\n",
    "    \"Crivo NumPy\": crivo_numpy,\n",
    "    \"Crivo Segmentado\": crivo_segmentado\n",
    "}\n",
    "# Dicionário com nomes legíveis dos algoritmos e suas funções correspondentes\n",
    "\n",
    "# Loop para medir cada algoritmo\n",
    "for nome, func in algoritmos.items():\n",
    "    r = medir_tempo_memoria(func, n)  # Executa benchmark\n",
    "    r[\"algoritmo\"] = nome             # Adiciona o nome do algoritmo ao resultado\n",
    "    resultados.append(r)              # Armazena na lista\n",
    "\n",
    "df = pd.DataFrame(resultados)  # Converte resultados em um DataFrame do pandas\n",
    "df                             # Exibe tabela com tempo, memória e quantidade de primos"
   ]
  },
  {
   "cell_type": "markdown",
   "id": "1589acd3-287d-4dfe-8922-eccae18b4ad3",
   "metadata": {},
   "source": [
    "# Detalhes importantes sobre memória\n",
    "\n",
    "- `RSS (psutil):` memória usada pelo processo inteiro, incluindo bibliotecas, buffers e objetos Python. Pode não refletir apenas o que o seu código gerou.\n",
    "\n",
    "- `tracemalloc:` rastreia apenas objetos Python, útil para detectar picos de uso temporário que podem passar despercebidos pelo RSS.\n",
    "\n",
    "- `Soma de RSS + pico do tracemalloc:` uma estimativa segura do uso real de memória pelo algoritmo, capturando tanto o consumo persistente quanto os picos momentâneos.\n",
    "\n",
    "- `Por que medir ambos:` alguns algoritmos podem usar muita memória temporária que é liberada rapidamente; tracemalloc captura isso, RSS sozinho não."
   ]
  },
  {
   "cell_type": "markdown",
   "id": "19d84018-484a-4550-8198-b7571dc7c06b",
   "metadata": {},
   "source": [
    "## 5. Conclusão\n",
    "\n",
    "- O **teste simples** é didático, mas inviável para valores grandes.\n",
    "- O **crivo de Eratóstenes** é eficiente e fácil de implementar.\n",
    "- O **crivo com NumPy** é ainda mais rápido por conta da vetorização.\n",
    "- O **crivo segmentado** é útil para gerar primos muito grandes sem estourar a memória.\n",
    "\n",
    "---\n",
    "Em resumo:  \n",
    "- Para aprendizado → use o método simples e o crivo clássico.  \n",
    "- Para eficiência prática → use NumPy ou segmentado.  "
   ]
  },
  {
   "cell_type": "code",
   "execution_count": null,
   "id": "f0dc4be7-f143-48d2-8d3e-427c364f0fa1",
   "metadata": {},
   "outputs": [],
   "source": []
  }
 ],
 "metadata": {
  "kernelspec": {
   "display_name": "Python 3 (ipykernel)",
   "language": "python",
   "name": "python3"
  },
  "language_info": {
   "codemirror_mode": {
    "name": "ipython",
    "version": 3
   },
   "file_extension": ".py",
   "mimetype": "text/x-python",
   "name": "python",
   "nbconvert_exporter": "python",
   "pygments_lexer": "ipython3",
   "version": "3.12.4"
  }
 },
 "nbformat": 4,
 "nbformat_minor": 5
}
